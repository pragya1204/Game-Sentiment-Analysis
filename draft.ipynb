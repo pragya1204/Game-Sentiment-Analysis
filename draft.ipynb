{
  "metadata": {
    "kernelspec": {
      "name": "python3",
      "display_name": "Python 3",
      "language": "python"
    },
    "language_info": {
      "name": "python",
      "version": "3.11.13",
      "mimetype": "text/x-python",
      "codemirror_mode": {
        "name": "ipython",
        "version": 3
      },
      "pygments_lexer": "ipython3",
      "nbconvert_exporter": "python",
      "file_extension": ".py"
    },
    "colab": {
      "provenance": [],
      "gpuType": "T4",
      "name": "notebook99322013b9"
    },
    "accelerator": "GPU",
    "kaggle": {
      "accelerator": "nvidiaTeslaT4",
      "dataSources": [
        {
          "sourceId": 13105679,
          "sourceType": "datasetVersion",
          "datasetId": 8301736
        },
        {
          "sourceId": 13105800,
          "sourceType": "datasetVersion",
          "datasetId": 8301821
        },
        {
          "sourceId": 13106002,
          "sourceType": "datasetVersion",
          "datasetId": 8301952
        }
      ],
      "dockerImageVersionId": 31090,
      "isInternetEnabled": false,
      "language": "python",
      "sourceType": "notebook",
      "isGpuEnabled": true
    }
  },
  "nbformat_minor": 0,
  "nbformat": 4,
  "cells": [
    {
      "source": [
        "# IMPORTANT: SOME KAGGLE DATA SOURCES ARE PRIVATE\n",
        "# RUN THIS CELL IN ORDER TO IMPORT YOUR KAGGLE DATA SOURCES.\n",
        "import kagglehub\n",
        "kagglehub.login()\n"
      ],
      "metadata": {
        "id": "msFJPrfU0Da5"
      },
      "cell_type": "code",
      "outputs": [],
      "execution_count": null
    },
    {
      "source": [
        "# IMPORTANT: RUN THIS CELL IN ORDER TO IMPORT YOUR KAGGLE DATA SOURCES,\n",
        "# THEN FEEL FREE TO DELETE THIS CELL.\n",
        "# NOTE: THIS NOTEBOOK ENVIRONMENT DIFFERS FROM KAGGLE'S PYTHON\n",
        "# ENVIRONMENT SO THERE MAY BE MISSING LIBRARIES USED BY YOUR\n",
        "# NOTEBOOK.\n",
        "\n",
        "pragyaaa06_dataset1_path = kagglehub.dataset_download('pragyaaa06/dataset1')\n",
        "pragyaaa06_dataset2_path = kagglehub.dataset_download('pragyaaa06/dataset2')\n",
        "pragyaaa06_dataset3_path = kagglehub.dataset_download('pragyaaa06/dataset3')\n",
        "\n",
        "print('Data source import complete.')\n"
      ],
      "metadata": {
        "id": "C8nOx8UQ0Da7"
      },
      "cell_type": "code",
      "outputs": [],
      "execution_count": null
    },
    {
      "cell_type": "code",
      "source": [
        "import pandas as pd\n",
        "import numpy as np\n",
        "import re\n",
        "from tensorflow.keras.preprocessing.text import Tokenizer\n",
        "from tensorflow.keras.preprocessing.sequence import pad_sequences\n",
        "from sklearn.model_selection import train_test_split\n",
        "from tensorflow.keras.utils import to_categorical\n",
        "\n",
        "df=pd.read_csv('/kaggle/input/dataset3/big_corpus.csv')\n",
        "df.head()\n"
      ],
      "metadata": {
        "colab": {
          "base_uri": "https://localhost:8080/",
          "height": 521
        },
        "id": "snLWu_nBHT6W",
        "outputId": "ff37cd1f-7a37-40ef-a066-596bcee2c6a2",
        "trusted": true,
        "execution": {
          "iopub.status.busy": "2025-09-19T06:54:54.916272Z",
          "iopub.execute_input": "2025-09-19T06:54:54.916821Z",
          "iopub.status.idle": "2025-09-19T06:54:56.98325Z",
          "shell.execute_reply.started": "2025-09-19T06:54:54.916789Z",
          "shell.execute_reply": "2025-09-19T06:54:56.982547Z"
        }
      },
      "outputs": [
        {
          "execution_count": 61,
          "output_type": "execute_result",
          "data": {
            "text/plain": "   overall  verified   reviewTime      reviewerID        asin  reviewerName  \\\n0      1.0     False  10 22, 2008   A74TA8X5YQ7NE  B000X9FV5M  NeuroSplicer   \n1      1.0      True  03 17, 2018  A2EYD6E0TFQPVL  B014G03F24         chris   \n2      1.0      True  02 22, 2017  A303LKXI2SAZQ4  B003OAE79S         tammy   \n3      1.0     False  03 23, 2012  A1JGSUX59ZTWYE  B004UDLRMS          Bear   \n4      1.0     False  05 16, 2008   AXIVHIP86D1MJ  B0013B30SY       Mustang   \n\n                                          reviewText  \\\n0  Recently UBISOFT had to settle a huge class-ac...   \n1                 code didn't work, got me a refund.   \n2  these do not work at all, all i get is static ...   \n3  well let me start by saying that when i first ...   \n4  Dont waste your money, you will just end up us...   \n\n                                   summary  unixReviewTime vote  \\\n0                  THE DAY GAMING CRIED...      1224633600  NaN   \n1                                 One Star      1521244800  NaN   \n2  these do not work at all, all i get ...      1487721600  NaN   \n3                            last gen game      1332460800    6   \n4                                    Waste      1210896000    4   \n\n                        style image  \n0  {'Format:': ' Video Game'}   NaN  \n1                         NaN   NaN  \n2      {'Size:': ' one size'}   NaN  \n3  {'Format:': ' Video Game'}   NaN  \n4                         NaN   NaN  ",
            "text/html": "<div>\n<style scoped>\n    .dataframe tbody tr th:only-of-type {\n        vertical-align: middle;\n    }\n\n    .dataframe tbody tr th {\n        vertical-align: top;\n    }\n\n    .dataframe thead th {\n        text-align: right;\n    }\n</style>\n<table border=\"1\" class=\"dataframe\">\n  <thead>\n    <tr style=\"text-align: right;\">\n      <th></th>\n      <th>overall</th>\n      <th>verified</th>\n      <th>reviewTime</th>\n      <th>reviewerID</th>\n      <th>asin</th>\n      <th>reviewerName</th>\n      <th>reviewText</th>\n      <th>summary</th>\n      <th>unixReviewTime</th>\n      <th>vote</th>\n      <th>style</th>\n      <th>image</th>\n    </tr>\n  </thead>\n  <tbody>\n    <tr>\n      <th>0</th>\n      <td>1.0</td>\n      <td>False</td>\n      <td>10 22, 2008</td>\n      <td>A74TA8X5YQ7NE</td>\n      <td>B000X9FV5M</td>\n      <td>NeuroSplicer</td>\n      <td>Recently UBISOFT had to settle a huge class-ac...</td>\n      <td>THE DAY GAMING CRIED...</td>\n      <td>1224633600</td>\n      <td>NaN</td>\n      <td>{'Format:': ' Video Game'}</td>\n      <td>NaN</td>\n    </tr>\n    <tr>\n      <th>1</th>\n      <td>1.0</td>\n      <td>True</td>\n      <td>03 17, 2018</td>\n      <td>A2EYD6E0TFQPVL</td>\n      <td>B014G03F24</td>\n      <td>chris</td>\n      <td>code didn't work, got me a refund.</td>\n      <td>One Star</td>\n      <td>1521244800</td>\n      <td>NaN</td>\n      <td>NaN</td>\n      <td>NaN</td>\n    </tr>\n    <tr>\n      <th>2</th>\n      <td>1.0</td>\n      <td>True</td>\n      <td>02 22, 2017</td>\n      <td>A303LKXI2SAZQ4</td>\n      <td>B003OAE79S</td>\n      <td>tammy</td>\n      <td>these do not work at all, all i get is static ...</td>\n      <td>these do not work at all, all i get ...</td>\n      <td>1487721600</td>\n      <td>NaN</td>\n      <td>{'Size:': ' one size'}</td>\n      <td>NaN</td>\n    </tr>\n    <tr>\n      <th>3</th>\n      <td>1.0</td>\n      <td>False</td>\n      <td>03 23, 2012</td>\n      <td>A1JGSUX59ZTWYE</td>\n      <td>B004UDLRMS</td>\n      <td>Bear</td>\n      <td>well let me start by saying that when i first ...</td>\n      <td>last gen game</td>\n      <td>1332460800</td>\n      <td>6</td>\n      <td>{'Format:': ' Video Game'}</td>\n      <td>NaN</td>\n    </tr>\n    <tr>\n      <th>4</th>\n      <td>1.0</td>\n      <td>False</td>\n      <td>05 16, 2008</td>\n      <td>AXIVHIP86D1MJ</td>\n      <td>B0013B30SY</td>\n      <td>Mustang</td>\n      <td>Dont waste your money, you will just end up us...</td>\n      <td>Waste</td>\n      <td>1210896000</td>\n      <td>4</td>\n      <td>NaN</td>\n      <td>NaN</td>\n    </tr>\n  </tbody>\n</table>\n</div>"
          },
          "metadata": {}
        }
      ],
      "execution_count": null
    },
    {
      "cell_type": "code",
      "source": [
        "df.isnull().sum()"
      ],
      "metadata": {
        "colab": {
          "base_uri": "https://localhost:8080/",
          "height": 460
        },
        "id": "Z_xAr6-XJBWb",
        "outputId": "2ce751b2-8316-4182-ed21-b6239c8c7172",
        "trusted": true,
        "execution": {
          "iopub.status.busy": "2025-09-19T06:54:56.984556Z",
          "iopub.execute_input": "2025-09-19T06:54:56.984762Z",
          "iopub.status.idle": "2025-09-19T06:54:57.038115Z",
          "shell.execute_reply.started": "2025-09-19T06:54:56.984745Z",
          "shell.execute_reply": "2025-09-19T06:54:57.037593Z"
        }
      },
      "outputs": [
        {
          "execution_count": 62,
          "output_type": "execute_result",
          "data": {
            "text/plain": "overall                0\nverified               0\nreviewTime             0\nreviewerID             0\nasin                   0\nreviewerName          53\nreviewText            30\nsummary               21\nunixReviewTime         0\nvote               78093\nstyle              45592\nimage             109198\ndtype: int64"
          },
          "metadata": {}
        }
      ],
      "execution_count": null
    },
    {
      "cell_type": "code",
      "source": [
        "df.dropna(subset=['reviewText'], inplace=True)\n",
        "df.shape"
      ],
      "metadata": {
        "colab": {
          "base_uri": "https://localhost:8080/"
        },
        "id": "p6an1424KCK3",
        "outputId": "37a9a93f-4236-4226-d018-1fb9330bc901",
        "trusted": true,
        "execution": {
          "iopub.status.busy": "2025-09-19T06:54:57.038737Z",
          "iopub.execute_input": "2025-09-19T06:54:57.038906Z",
          "iopub.status.idle": "2025-09-19T06:54:57.065121Z",
          "shell.execute_reply.started": "2025-09-19T06:54:57.038892Z",
          "shell.execute_reply": "2025-09-19T06:54:57.064591Z"
        }
      },
      "outputs": [
        {
          "execution_count": 63,
          "output_type": "execute_result",
          "data": {
            "text/plain": "(109970, 12)"
          },
          "metadata": {}
        }
      ],
      "execution_count": null
    },
    {
      "cell_type": "code",
      "source": [
        "df['overall'].value_counts()"
      ],
      "metadata": {
        "colab": {
          "base_uri": "https://localhost:8080/",
          "height": 272
        },
        "id": "RDdnM-ToEwB7",
        "outputId": "006d9f2e-03ac-4415-be7d-55da4029cde2",
        "trusted": true,
        "execution": {
          "iopub.status.busy": "2025-09-19T06:54:57.066443Z",
          "iopub.execute_input": "2025-09-19T06:54:57.066648Z",
          "iopub.status.idle": "2025-09-19T06:54:57.07415Z",
          "shell.execute_reply.started": "2025-09-19T06:54:57.066632Z",
          "shell.execute_reply": "2025-09-19T06:54:57.073469Z"
        }
      },
      "outputs": [
        {
          "execution_count": 64,
          "output_type": "execute_result",
          "data": {
            "text/plain": "overall\n5.0    34977\n1.0    24996\n4.0    20000\n2.0    14999\n3.0    14998\nName: count, dtype: int64"
          },
          "metadata": {}
        }
      ],
      "execution_count": null
    },
    {
      "cell_type": "code",
      "source": [
        "# text cleaning\n",
        "def clean_text(text):\n",
        "    text=text.lower()\n",
        "    text = re.sub(r'<.*?>', '', text)\n",
        "    text = re.sub(r'[^a-zA-Z\\s]', '', text)\n",
        "    return text\n",
        "\n",
        "df['cleaned_review'] = df['reviewText'].apply(clean_text)"
      ],
      "metadata": {
        "id": "Pmr3UTBgKXLN",
        "trusted": true,
        "execution": {
          "iopub.status.busy": "2025-09-19T06:54:57.075001Z",
          "iopub.execute_input": "2025-09-19T06:54:57.075245Z",
          "iopub.status.idle": "2025-09-19T06:54:58.895375Z",
          "shell.execute_reply.started": "2025-09-19T06:54:57.075224Z",
          "shell.execute_reply": "2025-09-19T06:54:58.894596Z"
        }
      },
      "outputs": [],
      "execution_count": null
    },
    {
      "cell_type": "code",
      "source": [
        "# create sentiment labels\n",
        "def map_sentiment(rating):\n",
        "  if rating<=2:\n",
        "    return 0 # negative\n",
        "  elif rating==3:\n",
        "    return 1 # neutral\n",
        "  else:\n",
        "    return 2 # positive\n",
        "\n",
        "df['sentiment']=df['overall'].apply(map_sentiment)"
      ],
      "metadata": {
        "id": "44Hg9DVWKoK0",
        "trusted": true,
        "execution": {
          "iopub.status.busy": "2025-09-19T06:54:58.89621Z",
          "iopub.execute_input": "2025-09-19T06:54:58.896428Z",
          "iopub.status.idle": "2025-09-19T06:54:58.945844Z",
          "shell.execute_reply.started": "2025-09-19T06:54:58.896399Z",
          "shell.execute_reply": "2025-09-19T06:54:58.945141Z"
        }
      },
      "outputs": [],
      "execution_count": null
    },
    {
      "cell_type": "code",
      "source": [
        "reviews=df['cleaned_review'].values\n",
        "labels=df['sentiment'].values\n",
        "print('Data cleaning and labeling complete.')\n",
        "print('Example review:', reviews[0])\n",
        "print('Example label:', labels[0])"
      ],
      "metadata": {
        "colab": {
          "base_uri": "https://localhost:8080/"
        },
        "id": "N6DV2Du6LPV_",
        "outputId": "8ddf62b2-7448-4513-fc9a-a7ef7b0bbbd6",
        "trusted": true,
        "execution": {
          "iopub.status.busy": "2025-09-19T06:54:58.946608Z",
          "iopub.execute_input": "2025-09-19T06:54:58.947062Z",
          "iopub.status.idle": "2025-09-19T06:54:58.961244Z",
          "shell.execute_reply.started": "2025-09-19T06:54:58.94704Z",
          "shell.execute_reply": "2025-09-19T06:54:58.960629Z"
        }
      },
      "outputs": [
        {
          "name": "stdout",
          "text": "Data cleaning and labeling complete.\nExample review: recently ubisoft had to settle a huge classaction suit brought against the company for bundling the notoriously harmful starforce drm with its released games so what the geniuses at the helm do next they decide to make the same mistake yet again  by choosing the same drm scheme that made bioshock mass effect and spore infamous securom xx with limited activations\n\nmass effect can be found in clearance bins only months after its release spore not only undersold miserably but also made history as the boiling point of gamers lashing back fed up with idiotic drm schemes and the clueless mbas that run an artform as any other commodity business decided that hey why not jump into that mudpond ourselves\n\nthe original far cry was such a great game that any sequel of it would have to fight an uphill battle to begin with especially without its original developing team now imagine shooting this sequel on the foot with a well known much hated and totally useless drm scheme that turns it into another rentagame no one wants were i a ubisoft stockholder i would be ordering my broker to sellsellsell instead of posting this\n\never since its xx version securom has nothing to do with fighting piracy all it does in this direction blocking certain optical and virtual drives is a very old lame and already bypassed attempt that serves as a thin smokescreen securom is in fact an intruding and silent dataminer and roothijacker that is delivered by means of popular games\nthat is why even the steam versions as well as the free demos of such games are infected with it securom will borrow deep into our pc systems and will refuse to be removed completely even after uninstalling the game it came with it will retain backdoor access and will keep reporting to its mothership\n\nlately these security concerns have been accentuated as known trojans seem to be exploiting securoms backdoor access for their own purposes in effect installing a securominfected game in our computer will be placing your hardware and data at risk long after having uninstalled the game\n\nand the latest vehicle to deliver this hazardous snoopware is far cry   a game crippled by limited installations no thanks i think i ll pass this one too\n\nthe only people who do not care about securom are in factpirates because cracking games protected by this contraption apparently is very easy every single game that was supposedly protected by securom was cracked hours withing its release\nto everyone else though securom or starforce or any other hazardous drm scheme is a core issue that needs to be resolved before pc gaming can evolve any further and the best way to resolve such issues is market correction\n\nthat is why it is important for gamers to keep voting with their wallets and as with any vote well informed decisions are paramount in making the right choice\nExample label: 0\n",
          "output_type": "stream"
        }
      ],
      "execution_count": null
    },
    {
      "cell_type": "code",
      "source": [
        "# Tokenization\n",
        "voc_size=10000\n",
        "tokenizer=Tokenizer(num_words=voc_size, oov_token='<OOV>')\n",
        "tokenizer.fit_on_texts(reviews)\n",
        "# convert text to sequences of integers\n",
        "sequences=tokenizer.texts_to_sequences(reviews)"
      ],
      "metadata": {
        "id": "cxLWM6G8LmwE",
        "trusted": true,
        "execution": {
          "iopub.status.busy": "2025-09-19T06:54:58.963517Z",
          "iopub.execute_input": "2025-09-19T06:54:58.963721Z",
          "iopub.status.idle": "2025-09-19T06:55:10.041884Z",
          "shell.execute_reply.started": "2025-09-19T06:54:58.963706Z",
          "shell.execute_reply": "2025-09-19T06:55:10.04128Z"
        }
      },
      "outputs": [],
      "execution_count": null
    },
    {
      "cell_type": "code",
      "source": [
        "# Padding\n",
        "max_len = int(np.percentile([len(seq) for seq in sequences], 95))\n",
        "padded_sequences=pad_sequences(sequences, maxlen=max_len, padding='post', truncating='post')\n",
        "print(f\"Vocabulary size: {voc_size}\")\n",
        "print(f\"Maximum sequence length: {max_len}\")\n",
        "print(f\"Padded sequence shape: {padded_sequences.shape}\")"
      ],
      "metadata": {
        "colab": {
          "base_uri": "https://localhost:8080/"
        },
        "id": "Zz2KF0nBLt0j",
        "outputId": "a97de15b-3aba-43b3-f281-92c32189d0b1",
        "trusted": true,
        "execution": {
          "iopub.status.busy": "2025-09-19T06:55:10.044857Z",
          "iopub.execute_input": "2025-09-19T06:55:10.045073Z",
          "iopub.status.idle": "2025-09-19T06:55:10.96363Z",
          "shell.execute_reply.started": "2025-09-19T06:55:10.045056Z",
          "shell.execute_reply": "2025-09-19T06:55:10.962803Z"
        }
      },
      "outputs": [
        {
          "name": "stdout",
          "text": "Vocabulary size: 10000\nMaximum sequence length: 554\nPadded sequence shape: (109970, 554)\n",
          "output_type": "stream"
        }
      ],
      "execution_count": null
    },
    {
      "cell_type": "code",
      "source": [
        "X_train, X_test, y_train, y_test=train_test_split(padded_sequences, labels, test_size=0.2, random_state=42)\n",
        "\n",
        "# coverts labels to categorical for the model\n",
        "y_train=to_categorical(y_train)\n",
        "y_test=to_categorical(y_test)\n"
      ],
      "metadata": {
        "id": "thr4-smEyZ14",
        "trusted": true,
        "execution": {
          "iopub.status.busy": "2025-09-19T06:55:10.966129Z",
          "iopub.execute_input": "2025-09-19T06:55:10.96634Z",
          "iopub.status.idle": "2025-09-19T06:55:11.063162Z",
          "shell.execute_reply.started": "2025-09-19T06:55:10.966323Z",
          "shell.execute_reply": "2025-09-19T06:55:11.062582Z"
        }
      },
      "outputs": [],
      "execution_count": null
    },
    {
      "cell_type": "code",
      "source": [
        "# Building the Model\n",
        "from tensorflow.keras.models import Sequential\n",
        "from tensorflow.keras.layers import Embedding, Bidirectional, LSTM, Dense, Dropout\n",
        "from tensorflow.keras.callbacks import EarlyStopping\n",
        "from tensorflow.keras.regularizers import l2\n",
        "\n",
        "embedding_dim = 128\n",
        "model= Sequential([\n",
        "    Embedding(voc_size,output_dim=embedding_dim, input_length=max_len),\n",
        "    Bidirectional(LSTM(128, return_sequences=True)),\n",
        "    Bidirectional(LSTM(128)),\n",
        "    Dropout(0.4),\n",
        "    Dense(64, activation='relu'),\n",
        "    Dropout(0.3),\n",
        "    Dense(3, activation='softmax')\n",
        "])\n",
        "model.compile(\n",
        "    loss='categorical_crossentropy',\n",
        "    optimizer='adam',\n",
        "    metrics=['accuracy']\n",
        ")\n",
        "model.summary()"
      ],
      "metadata": {
        "colab": {
          "base_uri": "https://localhost:8080/",
          "height": 408
        },
        "id": "0dTm6TlbNpVN",
        "outputId": "76b92733-52f1-41ff-c38d-86ab24fcfd9b",
        "trusted": true,
        "execution": {
          "iopub.status.busy": "2025-09-19T06:55:11.063966Z",
          "iopub.execute_input": "2025-09-19T06:55:11.064226Z",
          "iopub.status.idle": "2025-09-19T06:55:11.118338Z",
          "shell.execute_reply.started": "2025-09-19T06:55:11.064197Z",
          "shell.execute_reply": "2025-09-19T06:55:11.117824Z"
        }
      },
      "outputs": [
        {
          "name": "stderr",
          "text": "/usr/local/lib/python3.11/dist-packages/keras/src/layers/core/embedding.py:90: UserWarning: Argument `input_length` is deprecated. Just remove it.\n  warnings.warn(\n",
          "output_type": "stream"
        },
        {
          "output_type": "display_data",
          "data": {
            "text/plain": "\u001b[1mModel: \"sequential_7\"\u001b[0m\n",
            "text/html": "<pre style=\"white-space:pre;overflow-x:auto;line-height:normal;font-family:Menlo,'DejaVu Sans Mono',consolas,'Courier New',monospace\"><span style=\"font-weight: bold\">Model: \"sequential_7\"</span>\n</pre>\n"
          },
          "metadata": {}
        },
        {
          "output_type": "display_data",
          "data": {
            "text/plain": "┏━━━━━━━━━━━━━━━━━━━━━━━━━━━━━━━━━┳━━━━━━━━━━━━━━━━━━━━━━━━┳━━━━━━━━━━━━━━━┓\n┃\u001b[1m \u001b[0m\u001b[1mLayer (type)                   \u001b[0m\u001b[1m \u001b[0m┃\u001b[1m \u001b[0m\u001b[1mOutput Shape          \u001b[0m\u001b[1m \u001b[0m┃\u001b[1m \u001b[0m\u001b[1m      Param #\u001b[0m\u001b[1m \u001b[0m┃\n┡━━━━━━━━━━━━━━━━━━━━━━━━━━━━━━━━━╇━━━━━━━━━━━━━━━━━━━━━━━━╇━━━━━━━━━━━━━━━┩\n│ embedding_7 (\u001b[38;5;33mEmbedding\u001b[0m)         │ ?                      │   \u001b[38;5;34m0\u001b[0m (unbuilt) │\n├─────────────────────────────────┼────────────────────────┼───────────────┤\n│ bidirectional_8 (\u001b[38;5;33mBidirectional\u001b[0m) │ ?                      │   \u001b[38;5;34m0\u001b[0m (unbuilt) │\n├─────────────────────────────────┼────────────────────────┼───────────────┤\n│ bidirectional_9 (\u001b[38;5;33mBidirectional\u001b[0m) │ ?                      │   \u001b[38;5;34m0\u001b[0m (unbuilt) │\n├─────────────────────────────────┼────────────────────────┼───────────────┤\n│ dropout_13 (\u001b[38;5;33mDropout\u001b[0m)            │ ?                      │             \u001b[38;5;34m0\u001b[0m │\n├─────────────────────────────────┼────────────────────────┼───────────────┤\n│ dense_14 (\u001b[38;5;33mDense\u001b[0m)                │ ?                      │   \u001b[38;5;34m0\u001b[0m (unbuilt) │\n├─────────────────────────────────┼────────────────────────┼───────────────┤\n│ dropout_14 (\u001b[38;5;33mDropout\u001b[0m)            │ ?                      │             \u001b[38;5;34m0\u001b[0m │\n├─────────────────────────────────┼────────────────────────┼───────────────┤\n│ dense_15 (\u001b[38;5;33mDense\u001b[0m)                │ ?                      │   \u001b[38;5;34m0\u001b[0m (unbuilt) │\n└─────────────────────────────────┴────────────────────────┴───────────────┘\n",
            "text/html": "<pre style=\"white-space:pre;overflow-x:auto;line-height:normal;font-family:Menlo,'DejaVu Sans Mono',consolas,'Courier New',monospace\">┏━━━━━━━━━━━━━━━━━━━━━━━━━━━━━━━━━┳━━━━━━━━━━━━━━━━━━━━━━━━┳━━━━━━━━━━━━━━━┓\n┃<span style=\"font-weight: bold\"> Layer (type)                    </span>┃<span style=\"font-weight: bold\"> Output Shape           </span>┃<span style=\"font-weight: bold\">       Param # </span>┃\n┡━━━━━━━━━━━━━━━━━━━━━━━━━━━━━━━━━╇━━━━━━━━━━━━━━━━━━━━━━━━╇━━━━━━━━━━━━━━━┩\n│ embedding_7 (<span style=\"color: #0087ff; text-decoration-color: #0087ff\">Embedding</span>)         │ ?                      │   <span style=\"color: #00af00; text-decoration-color: #00af00\">0</span> (unbuilt) │\n├─────────────────────────────────┼────────────────────────┼───────────────┤\n│ bidirectional_8 (<span style=\"color: #0087ff; text-decoration-color: #0087ff\">Bidirectional</span>) │ ?                      │   <span style=\"color: #00af00; text-decoration-color: #00af00\">0</span> (unbuilt) │\n├─────────────────────────────────┼────────────────────────┼───────────────┤\n│ bidirectional_9 (<span style=\"color: #0087ff; text-decoration-color: #0087ff\">Bidirectional</span>) │ ?                      │   <span style=\"color: #00af00; text-decoration-color: #00af00\">0</span> (unbuilt) │\n├─────────────────────────────────┼────────────────────────┼───────────────┤\n│ dropout_13 (<span style=\"color: #0087ff; text-decoration-color: #0087ff\">Dropout</span>)            │ ?                      │             <span style=\"color: #00af00; text-decoration-color: #00af00\">0</span> │\n├─────────────────────────────────┼────────────────────────┼───────────────┤\n│ dense_14 (<span style=\"color: #0087ff; text-decoration-color: #0087ff\">Dense</span>)                │ ?                      │   <span style=\"color: #00af00; text-decoration-color: #00af00\">0</span> (unbuilt) │\n├─────────────────────────────────┼────────────────────────┼───────────────┤\n│ dropout_14 (<span style=\"color: #0087ff; text-decoration-color: #0087ff\">Dropout</span>)            │ ?                      │             <span style=\"color: #00af00; text-decoration-color: #00af00\">0</span> │\n├─────────────────────────────────┼────────────────────────┼───────────────┤\n│ dense_15 (<span style=\"color: #0087ff; text-decoration-color: #0087ff\">Dense</span>)                │ ?                      │   <span style=\"color: #00af00; text-decoration-color: #00af00\">0</span> (unbuilt) │\n└─────────────────────────────────┴────────────────────────┴───────────────┘\n</pre>\n"
          },
          "metadata": {}
        },
        {
          "output_type": "display_data",
          "data": {
            "text/plain": "\u001b[1m Total params: \u001b[0m\u001b[38;5;34m0\u001b[0m (0.00 B)\n",
            "text/html": "<pre style=\"white-space:pre;overflow-x:auto;line-height:normal;font-family:Menlo,'DejaVu Sans Mono',consolas,'Courier New',monospace\"><span style=\"font-weight: bold\"> Total params: </span><span style=\"color: #00af00; text-decoration-color: #00af00\">0</span> (0.00 B)\n</pre>\n"
          },
          "metadata": {}
        },
        {
          "output_type": "display_data",
          "data": {
            "text/plain": "\u001b[1m Trainable params: \u001b[0m\u001b[38;5;34m0\u001b[0m (0.00 B)\n",
            "text/html": "<pre style=\"white-space:pre;overflow-x:auto;line-height:normal;font-family:Menlo,'DejaVu Sans Mono',consolas,'Courier New',monospace\"><span style=\"font-weight: bold\"> Trainable params: </span><span style=\"color: #00af00; text-decoration-color: #00af00\">0</span> (0.00 B)\n</pre>\n"
          },
          "metadata": {}
        },
        {
          "output_type": "display_data",
          "data": {
            "text/plain": "\u001b[1m Non-trainable params: \u001b[0m\u001b[38;5;34m0\u001b[0m (0.00 B)\n",
            "text/html": "<pre style=\"white-space:pre;overflow-x:auto;line-height:normal;font-family:Menlo,'DejaVu Sans Mono',consolas,'Courier New',monospace\"><span style=\"font-weight: bold\"> Non-trainable params: </span><span style=\"color: #00af00; text-decoration-color: #00af00\">0</span> (0.00 B)\n</pre>\n"
          },
          "metadata": {}
        }
      ],
      "execution_count": null
    },
    {
      "cell_type": "code",
      "source": [
        "batch_size=128\n",
        "early_stopping=EarlyStopping(monitor='val_loss',min_delta=0.001, patience=3, restore_best_weights=True)\n",
        "print('Training the model....')\n",
        "\n",
        "history=model.fit(\n",
        "    X_train,y_train,\n",
        "    epochs=20,\n",
        "    batch_size=batch_size,\n",
        "    validation_split=0.2,\n",
        "    callbacks=[early_stopping]\n",
        ")\n",
        "print('Training Completed!')"
      ],
      "metadata": {
        "colab": {
          "base_uri": "https://localhost:8080/"
        },
        "id": "P07djFYVNvwl",
        "outputId": "f6baf4fd-ab14-43ca-b4dd-d701d6fb55bb",
        "trusted": true,
        "execution": {
          "iopub.status.busy": "2025-09-19T06:55:11.118997Z",
          "iopub.execute_input": "2025-09-19T06:55:11.119197Z",
          "iopub.status.idle": "2025-09-19T07:07:16.102704Z",
          "shell.execute_reply.started": "2025-09-19T06:55:11.11918Z",
          "shell.execute_reply": "2025-09-19T07:07:16.101961Z"
        }
      },
      "outputs": [
        {
          "name": "stdout",
          "text": "Training the model....\nEpoch 1/20\n\u001b[1m550/550\u001b[0m \u001b[32m━━━━━━━━━━━━━━━━━━━━\u001b[0m\u001b[37m\u001b[0m \u001b[1m105s\u001b[0m 180ms/step - accuracy: 0.6477 - loss: 0.8190 - val_accuracy: 0.7287 - val_loss: 0.6591\nEpoch 2/20\n\u001b[1m550/550\u001b[0m \u001b[32m━━━━━━━━━━━━━━━━━━━━\u001b[0m\u001b[37m\u001b[0m \u001b[1m103s\u001b[0m 188ms/step - accuracy: 0.7527 - loss: 0.6337 - val_accuracy: 0.7707 - val_loss: 0.5920\nEpoch 3/20\n\u001b[1m550/550\u001b[0m \u001b[32m━━━━━━━━━━━━━━━━━━━━\u001b[0m\u001b[37m\u001b[0m \u001b[1m103s\u001b[0m 188ms/step - accuracy: 0.7816 - loss: 0.5607 - val_accuracy: 0.7760 - val_loss: 0.5832\nEpoch 4/20\n\u001b[1m550/550\u001b[0m \u001b[32m━━━━━━━━━━━━━━━━━━━━\u001b[0m\u001b[37m\u001b[0m \u001b[1m103s\u001b[0m 188ms/step - accuracy: 0.7970 - loss: 0.5244 - val_accuracy: 0.7821 - val_loss: 0.5631\nEpoch 5/20\n\u001b[1m550/550\u001b[0m \u001b[32m━━━━━━━━━━━━━━━━━━━━\u001b[0m\u001b[37m\u001b[0m \u001b[1m103s\u001b[0m 188ms/step - accuracy: 0.8111 - loss: 0.4891 - val_accuracy: 0.7664 - val_loss: 0.6180\nEpoch 6/20\n\u001b[1m550/550\u001b[0m \u001b[32m━━━━━━━━━━━━━━━━━━━━\u001b[0m\u001b[37m\u001b[0m \u001b[1m103s\u001b[0m 188ms/step - accuracy: 0.8048 - loss: 0.5012 - val_accuracy: 0.7716 - val_loss: 0.5974\nEpoch 7/20\n\u001b[1m550/550\u001b[0m \u001b[32m━━━━━━━━━━━━━━━━━━━━\u001b[0m\u001b[37m\u001b[0m \u001b[1m103s\u001b[0m 187ms/step - accuracy: 0.7916 - loss: 0.5271 - val_accuracy: 0.7777 - val_loss: 0.5808\nTraining Completed!\n",
          "output_type": "stream"
        }
      ],
      "execution_count": null
    },
    {
      "cell_type": "markdown",
      "source": [
        "## Checking the overall accuracy"
      ],
      "metadata": {
        "id": "ZvGYWllwvw6Q"
      }
    },
    {
      "cell_type": "code",
      "source": [
        "import matplotlib.pyplot as plt\n",
        "from sklearn.metrics import confusion_matrix, classification_report\n",
        "import seaborn as sns\n",
        "\n",
        "loss,accuracy=model.evaluate(X_test,y_test)\n",
        "\n",
        "print(f\"Test Loss: {loss:.4f}\")\n",
        "print(f\"Test Accuracy: {accuracy*100:.2f}%\")"
      ],
      "metadata": {
        "colab": {
          "base_uri": "https://localhost:8080/"
        },
        "id": "HAii73HJPjcr",
        "outputId": "00a7e068-de25-436e-af6e-0a047eda5f28",
        "trusted": true,
        "execution": {
          "iopub.status.busy": "2025-09-19T07:07:16.103379Z",
          "iopub.execute_input": "2025-09-19T07:07:16.103621Z",
          "iopub.status.idle": "2025-09-19T07:07:36.796336Z",
          "shell.execute_reply.started": "2025-09-19T07:07:16.103604Z",
          "shell.execute_reply": "2025-09-19T07:07:36.795788Z"
        }
      },
      "outputs": [
        {
          "name": "stdout",
          "text": "\u001b[1m688/688\u001b[0m \u001b[32m━━━━━━━━━━━━━━━━━━━━\u001b[0m\u001b[37m\u001b[0m \u001b[1m21s\u001b[0m 30ms/step - accuracy: 0.7730 - loss: 0.5846\nTest Loss: 0.5808\nTest Accuracy: 77.33%\n",
          "output_type": "stream"
        }
      ],
      "execution_count": null
    },
    {
      "cell_type": "code",
      "source": [
        "# plot training history\n",
        "def plot_history(history):\n",
        "    fig, (ax1, ax2) = plt.subplots(1, 2, figsize=(12, 4))\n",
        "    ax1.plot(history.history['accuracy'], label='Train Accuracy')\n",
        "    ax1.plot(history.history['val_accuracy'], label='Validation Accuracy')\n",
        "    ax1.set_title('Model Accuracy')\n",
        "    ax1.set_xlabel('Epoch')\n",
        "    ax1.set_ylabel('Accuracy')\n",
        "    ax1.legend()\n",
        "\n",
        "    ax2.plot(history.history['loss'], label='Train Loss')\n",
        "    ax2.plot(history.history['val_loss'], label='Validation Loss')\n",
        "    ax2.set_title('Model Loss')\n",
        "    ax2.set_xlabel('Epoch')\n",
        "    ax2.set_ylabel('Loss')\n",
        "    ax2.legend()\n",
        "    plt.show()\n",
        "plot_history(history)"
      ],
      "metadata": {
        "colab": {
          "base_uri": "https://localhost:8080/",
          "height": 254
        },
        "id": "psruFd1jQXuT",
        "outputId": "ecad2f97-9b98-4cbc-f915-f9b74beb081e",
        "trusted": true,
        "execution": {
          "iopub.status.busy": "2025-09-19T07:07:36.797163Z",
          "iopub.execute_input": "2025-09-19T07:07:36.797448Z",
          "iopub.status.idle": "2025-09-19T07:07:37.100607Z",
          "shell.execute_reply.started": "2025-09-19T07:07:36.7974Z",
          "shell.execute_reply": "2025-09-19T07:07:37.099879Z"
        }
      },
      "outputs": [
        {
          "output_type": "display_data",
          "data": {
            "text/plain": "<Figure size 1200x400 with 2 Axes>",
            "image/png": "[encoded data removed]"
          },
          "metadata": {}
        }
      ],
      "execution_count": null
    },
    {
      "cell_type": "code",
      "source": [
        "from sklearn.metrics import confusion_matrix, classification_report\n",
        "import seaborn as sns\n",
        "\n",
        "print(\"Classification Report:\")\n",
        "print(classification_report(np.argmax(y_test, axis=1), np.argmax(model.predict(X_test), axis=1), target_names=['Negative', 'Neutral','Positive']))\n",
        "\n",
        "print(\"Confusion Matrix:\")\n",
        "cm = confusion_matrix(np.argmax(y_test, axis=1), np.argmax(model.predict(X_test), axis=1))\n",
        "sns.heatmap(cm, annot=True)"
      ],
      "metadata": {
        "id": "YlVo7olhQ0L4",
        "colab": {
          "base_uri": "https://localhost:8080/",
          "height": 690
        },
        "outputId": "2056e5d3-3abb-4f41-afdf-cd96a8d1bfa6",
        "trusted": true,
        "execution": {
          "iopub.status.busy": "2025-09-19T07:07:37.101358Z",
          "iopub.execute_input": "2025-09-19T07:07:37.101662Z",
          "iopub.status.idle": "2025-09-19T07:08:17.654639Z",
          "shell.execute_reply.started": "2025-09-19T07:07:37.101637Z",
          "shell.execute_reply": "2025-09-19T07:08:17.653996Z"
        }
      },
      "outputs": [
        {
          "name": "stdout",
          "text": "Classification Report:\n\u001b[1m688/688\u001b[0m \u001b[32m━━━━━━━━━━━━━━━━━━━━\u001b[0m\u001b[37m\u001b[0m \u001b[1m20s\u001b[0m 29ms/step\n              precision    recall  f1-score   support\n\n    Negative       0.77      0.84      0.81      8105\n     Neutral       0.42      0.10      0.16      3050\n    Positive       0.79      0.91      0.85     10839\n\n    accuracy                           0.77     21994\n   macro avg       0.66      0.62      0.61     21994\nweighted avg       0.73      0.77      0.74     21994\n\nConfusion Matrix:\n\u001b[1m688/688\u001b[0m \u001b[32m━━━━━━━━━━━━━━━━━━━━\u001b[0m\u001b[37m\u001b[0m \u001b[1m19s\u001b[0m 28ms/step\n",
          "output_type": "stream"
        },
        {
          "execution_count": 75,
          "output_type": "execute_result",
          "data": {
            "text/plain": "<Axes: >"
          },
          "metadata": {}
        },
        {
          "output_type": "display_data",
          "data": {
            "text/plain": "<Figure size 640x480 with 2 Axes>",
            "image/png": "[encoded data removed]"
          },
          "metadata": {}
        }
      ],
      "execution_count": null
    },
    {
      "cell_type": "code",
      "source": [],
      "metadata": {
        "id": "yj1PCKXwwvmW",
        "trusted": true
      },
      "outputs": [],
      "execution_count": null
    }
  ]
}